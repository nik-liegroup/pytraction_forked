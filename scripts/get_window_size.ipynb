{
 "cells": [
  {
   "cell_type": "code",
   "execution_count": 93,
   "id": "divided-hotel",
   "metadata": {},
   "outputs": [],
   "source": [
    "from pytraction.core import TractionForce\n",
    "from pytraction.utils import plot\n",
    "\n",
    "from skimage import io\n",
    "import numpy as np\n",
    "import matplotlib.pyplot as plt\n",
    "\n",
    "# # # ######### Example 1\n",
    "pix_per_mu = 1.3\n",
    "E = 100 # Young's modulus in Pa\n",
    "\n",
    "img_path = '../data/example1/e01_pos1_axon1.tif'\n",
    "ref_path = '../data/example1/e01_pos1_axon1_ref.tif'\n",
    "\n",
    "traction_obj = TractionForce(pix_per_mu, E=E)\n",
    "img1, ref1, _ = traction_obj.load_data(img_path, ref_path)\n",
    "\n",
    "img_path = '../data/example2/1kPa-2-Position006.tif'\n",
    "ref_path = '../data/example2/1kPa-2-Position006_ref.tif'\n",
    "roi_path = '../data/example2/1kPa-2-Position006.roi'\n",
    "\n",
    "img2, ref2, roi = traction_obj.load_data(img_path, ref_path, roi_path)\n",
    "\n",
    "img_path_bead = '../data/example3/Beads3.tif'\n",
    "img_path_cell = '../data/example3/Cell3.tif'\n",
    "ref_path = '../data/example3/BeadsStop.tif'\n",
    "\n",
    "def z_project(img_path):\n",
    "        img = io.imread(img_path)\n",
    "        img_max= np.max(img, axis=0)\n",
    "        return img_max\n",
    "\n",
    "bead = z_project(img_path_bead)\n",
    "cell = z_project(img_path_cell)\n",
    "ref = z_project(ref_path)\n",
    "\n",
    "img = np.stack([[bead, cell]])\n",
    "ref = np.stack([ref, ref])\n",
    "\n",
    "io.imsave('../data/example3/tfm.tif', img)\n",
    "io.imsave('../data/example3/tfm-ref.tif', ref)\n",
    "\n",
    "\n",
    "img_path = '../data/example3/tfm.tif'\n",
    "ref_path = '../data/example3/tfm-ref.tif'\n",
    "\n",
    "traction_obj = TractionForce(pix_per_mu, E=E, segment=True, window_size=16)\n",
    "\n",
    "img3, ref3, roi = traction_obj.load_data(img_path, ref_path)"
   ]
  },
  {
   "cell_type": "code",
   "execution_count": 96,
   "id": "liked-howard",
   "metadata": {},
   "outputs": [
    {
     "data": {
      "image/png": "[encoded data removed]",
      "text/plain": [
       "<Figure size 432x288 with 1 Axes>"
      ]
     },
     "metadata": {
      "needs_background": "light"
     },
     "output_type": "display_data"
    }
   ],
   "source": [
    "def density(img, window_size):\n",
    "    clahe_img = clahe(normalize(img))\n",
    "    norm = cv2.adaptiveThreshold(clahe_img,255,cv2.ADAPTIVE_THRESH_MEAN_C, cv2.THRESH_BINARY,5,2)/255\n",
    "    \n",
    "    ones = len(norm[norm == 1])\n",
    "    \n",
    "    area = img.shape[0]* img.shape[1]\n",
    "    area_beads = ones/area\n",
    "    \n",
    "    return area_beads\n",
    "\n",
    "\n",
    "x = [    \n",
    "density(img1[0,0,:,:], window_size=32),\n",
    "density(img2[0,0,:,:], window_size=64),\n",
    "density(img3[0,0,:,:], window_size=16),\n",
    "]\n",
    "\n",
    "y = [\n",
    "    32,64,16\n",
    "]\n",
    "\n",
    "plt.scatter(x,np.log2(y))\n",
    "plt.ylabel('Window size log2(window size)')\n",
    "plt.xlabel('Bead density [Area_bead/Area_Image]')\n",
    "\n",
    "plt.show()"
   ]
  },
  {
   "cell_type": "code",
   "execution_count": 101,
   "id": "talented-proportion",
   "metadata": {},
   "outputs": [],
   "source": [
    "def density(img, window_size):\n",
    "    clahe_img = clahe(normalize(img))\n",
    "    norm = cv2.adaptiveThreshold(clahe_img,255,cv2.ADAPTIVE_THRESH_MEAN_C, cv2.THRESH_BINARY,5,2)/255\n",
    "    \n",
    "    ones = len(norm[norm == 1])\n",
    "    \n",
    "    area = img.shape[0]* img.shape[1]\n",
    "    area_beads = ones/area\n",
    "    \n",
    "    return [area_beads, window_size]\n",
    "\n",
    "\n",
    "x1 = np.array([density(img1[i,0,:,:], window_size=32) for i in range(img1.shape[0])])\n",
    "x2 = np.array([density(img2[0,0,:,:], window_size=64) for i in range(img2.shape[0])])\n",
    "x3 = np.array([density(img3[0,0,:,:], window_size=16) for i in range(img3.shape[0])])\n"
   ]
  },
  {
   "cell_type": "code",
   "execution_count": 106,
   "id": "characteristic-slovak",
   "metadata": {},
   "outputs": [],
   "source": [
    "x, y = np.concatenate([x1,x2,x3]).T"
   ]
  },
  {
   "cell_type": "code",
   "execution_count": 109,
   "id": "moral-investment",
   "metadata": {},
   "outputs": [
    {
     "data": {
      "image/png": "[encoded data removed]",
      "text/plain": [
       "<Figure size 432x288 with 1 Axes>"
      ]
     },
     "metadata": {
      "needs_background": "light"
     },
     "output_type": "display_data"
    }
   ],
   "source": [
    "for x0, y0 in zip(x,y):\n",
    "    plt.scatter(x0,np.log2(y0))\n",
    "\n",
    "plt.ylabel('Window size log2(window size)')\n",
    "plt.xlabel('Bead density [Area_bead/Area_Image]')\n",
    "\n",
    "plt.show()"
   ]
  },
  {
   "cell_type": "code",
   "execution_count": null,
   "id": "fourth-survey",
   "metadata": {},
   "outputs": [],
   "source": []
  }
 ],
 "metadata": {
  "kernelspec": {
   "display_name": "pytraction",
   "language": "python",
   "name": "pytraction"
  },
  "language_info": {
   "codemirror_mode": {
    "name": "ipython",
    "version": 3
   },
   "file_extension": ".py",
   "mimetype": "text/x-python",
   "name": "python",
   "nbconvert_exporter": "python",
   "pygments_lexer": "ipython3",
   "version": "3.8.8"
  }
 },
 "nbformat": 4,
 "nbformat_minor": 5
}
